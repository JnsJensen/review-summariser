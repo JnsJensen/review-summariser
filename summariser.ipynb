{
 "cells": [
  {
   "cell_type": "code",
   "execution_count": 1,
   "metadata": {},
   "outputs": [
    {
     "name": "stdout",
     "output_type": "stream",
     "text": [
      "mps\n"
     ]
    }
   ],
   "source": [
    "import numpy as np\n",
    "import pandas as pd\n",
    "import polars as pl\n",
    "import matplotlib.pyplot as plt\n",
    "import torch as th\n",
    "from transformers import GPT2Tokenizer, GPT2Model, GPT2Config\n",
    "\n",
    "device = th.device(\"mps\") if th.backends.mps.is_available() else th.device(\"cuda\") if th.cuda.is_available() else th.device(\"cpu\")\n",
    "\n",
    "if device.type == \"cuda\":\n",
    "    print(th.cuda.get_device_name(device))\n",
    "else:\n",
    "    print(device)\n"
   ]
  },
  {
   "cell_type": "code",
   "execution_count": 2,
   "metadata": {},
   "outputs": [],
   "source": [
    "data_dir = \"datasets/\"\n",
    "\n",
    "# Dataset paths\n",
    "full_path = data_dir + \"full/\" # Use this for full dataset that contains all review matadata\n",
    "data_pruned = data_dir + \"pruned/\" # Only datasets with two numbers beside the path have a pruned version\n",
    "\n",
    "full = \"All_Amazon_Review_5.json\" # 80 GB\n",
    "arts = \"Arts_Crafts_and_Sewing.json\" # 629 MB / 1.18 GB\n",
    "video = \"Amazon_Instant_Video_5.json\" # 28 MB\n",
    "\n",
    "# Pruned dataset paths\n",
    "\n",
    "# Read data with pandas\n",
    "df = pd.read_json(data_pruned + arts, lines=True)"
   ]
  },
  {
   "cell_type": "code",
   "execution_count": 3,
   "metadata": {},
   "outputs": [
    {
     "data": {
      "text/plain": [
       "' df = df.dropna(subset=[\"reviewtext\", \"summary\", \"overall\"])\\n\\n# Write reviewtext, summary or overall to json file\\ndf[[\"reviewtext\", \"summary\", \"overall\"]].to_json(\"Pruned_Arts_Crafts_and_Sewing.json\", orient=\"records\", lines=True) '"
      ]
     },
     "execution_count": 3,
     "metadata": {},
     "output_type": "execute_result"
    }
   ],
   "source": [
    "\"\"\" Prune a dataframe to only contain the columns we need \"\"\"\n",
    "# Drop all rows without a reviewtext or summary\n",
    "\"\"\" df = df.dropna(subset=[\"reviewtext\", \"summary\", \"overall\"])\n",
    "\n",
    "# Write reviewtext, summary or overall to json file\n",
    "df[[\"reviewtext\", \"summary\", \"overall\"]].to_json(\"Pruned_Arts_Crafts_and_Sewing.json\", orient=\"records\", lines=True) \"\"\""
   ]
  },
  {
   "cell_type": "code",
   "execution_count": 5,
   "metadata": {},
   "outputs": [
    {
     "data": {
      "application/vnd.jupyter.widget-view+json": {
       "model_id": "3ac60a2c6cef4a1ab6f136a08a9fd7af",
       "version_major": 2,
       "version_minor": 0
      },
      "text/plain": [
       "Downloading:   0%|          | 0.00/1.04M [00:00<?, ?B/s]"
      ]
     },
     "metadata": {},
     "output_type": "display_data"
    },
    {
     "data": {
      "application/vnd.jupyter.widget-view+json": {
       "model_id": "5a30a81eb858462f95385760e14b15dd",
       "version_major": 2,
       "version_minor": 0
      },
      "text/plain": [
       "Downloading:   0%|          | 0.00/456k [00:00<?, ?B/s]"
      ]
     },
     "metadata": {},
     "output_type": "display_data"
    },
    {
     "data": {
      "application/vnd.jupyter.widget-view+json": {
       "model_id": "9e00c19a2b7e47b898f85db53675a94c",
       "version_major": 2,
       "version_minor": 0
      },
      "text/plain": [
       "Downloading:   0%|          | 0.00/665 [00:00<?, ?B/s]"
      ]
     },
     "metadata": {},
     "output_type": "display_data"
    },
    {
     "name": "stderr",
     "output_type": "stream",
     "text": [
      "Token indices sequence length is longer than the specified maximum sequence length for this model (1127 > 1024). Running this sequence through the model will result in indexing errors\n"
     ]
    },
    {
     "data": {
      "text/html": [
       "<div>\n",
       "<style scoped>\n",
       "    .dataframe tbody tr th:only-of-type {\n",
       "        vertical-align: middle;\n",
       "    }\n",
       "\n",
       "    .dataframe tbody tr th {\n",
       "        vertical-align: top;\n",
       "    }\n",
       "\n",
       "    .dataframe thead th {\n",
       "        text-align: right;\n",
       "    }\n",
       "</style>\n",
       "<table border=\"1\" class=\"dataframe\">\n",
       "  <thead>\n",
       "    <tr style=\"text-align: right;\">\n",
       "      <th></th>\n",
       "      <th>reviewtext</th>\n",
       "      <th>summary</th>\n",
       "      <th>overall</th>\n",
       "    </tr>\n",
       "  </thead>\n",
       "  <tbody>\n",
       "    <tr>\n",
       "      <th>0</th>\n",
       "      <td>[40, 1053, 1100, 428, 1492, 1541, 290, 314, 10...</td>\n",
       "      <td>[32, 220, 370, 1340, 14418, 46476, 39633]</td>\n",
       "      <td>5</td>\n",
       "    </tr>\n",
       "    <tr>\n",
       "      <th>1</th>\n",
       "      <td>[35284, 306, 3194, 11678, 13]</td>\n",
       "      <td>[35284]</td>\n",
       "      <td>5</td>\n",
       "    </tr>\n",
       "    <tr>\n",
       "      <th>2</th>\n",
       "      <td>[23205, 340]</td>\n",
       "      <td>[20029, 10271]</td>\n",
       "      <td>5</td>\n",
       "    </tr>\n",
       "    <tr>\n",
       "      <th>3</th>\n",
       "      <td>[10248, 3224, 41577, 4941, 284, 423, 1695, 287...</td>\n",
       "      <td>[10248, 20984, 287, 27114, 5061]</td>\n",
       "      <td>5</td>\n",
       "    </tr>\n",
       "    <tr>\n",
       "      <th>4</th>\n",
       "      <td>[32, 308, 1031, 1131, 3912, 28096, 11, 45464, ...</td>\n",
       "      <td>[36716, 306, 1598, 11, 9321]</td>\n",
       "      <td>5</td>\n",
       "    </tr>\n",
       "  </tbody>\n",
       "</table>\n",
       "</div>"
      ],
      "text/plain": [
       "                                          reviewtext  \\\n",
       "0  [40, 1053, 1100, 428, 1492, 1541, 290, 314, 10...   \n",
       "1                      [35284, 306, 3194, 11678, 13]   \n",
       "2                                       [23205, 340]   \n",
       "3  [10248, 3224, 41577, 4941, 284, 423, 1695, 287...   \n",
       "4  [32, 308, 1031, 1131, 3912, 28096, 11, 45464, ...   \n",
       "\n",
       "                                     summary  overall  \n",
       "0  [32, 220, 370, 1340, 14418, 46476, 39633]        5  \n",
       "1                                    [35284]        5  \n",
       "2                             [20029, 10271]        5  \n",
       "3           [10248, 20984, 287, 27114, 5061]        5  \n",
       "4               [36716, 306, 1598, 11, 9321]        5  "
      ]
     },
     "execution_count": 5,
     "metadata": {},
     "output_type": "execute_result"
    }
   ],
   "source": [
    "# Tokenize reviewtext and summary\n",
    "tokenizer = GPT2Tokenizer.from_pretrained(\"gpt2\")\n",
    "\n",
    "# Tokenize reviewtext\n",
    "df[\"reviewtext\"] = df[\"reviewtext\"].apply(lambda x: tokenizer.encode(x, add_special_tokens=True))\n",
    "\n",
    "# Tokenize summary\n",
    "df[\"summary\"] = df[\"summary\"].apply(lambda x: tokenizer.encode(x, add_special_tokens=True))\n",
    "\n",
    "df.head()"
   ]
  },
  {
   "cell_type": "code",
   "execution_count": 7,
   "metadata": {},
   "outputs": [
    {
     "name": "stdout",
     "output_type": "stream",
     "text": [
      "\n",
      "Max length of review text:  7273\n",
      "Max length of summary:  81\n"
     ]
    }
   ],
   "source": [
    "# Lower case all strings\n",
    "#df.columns = map(str.lower, df.columns)\n",
    "\n",
    "# Keep only the review text, rating, and summary\n",
    "#df = df[['reviewtext', 'overall', 'summary']]\n",
    "\n",
    "# Find max length of review text with numpy\n",
    "max_review_len = np.max(df['reviewtext'].apply(len))\n",
    "print(\"\\nMax length of review text: \", max_review_len)\n",
    "# Find max length of summary with numpy\n",
    "max_summary_len = np.max((df['summary'].apply(len)))\n",
    "print(\"Max length of summary: \", max_summary_len)"
   ]
  },
  {
   "cell_type": "code",
   "execution_count": 34,
   "metadata": {},
   "outputs": [
    {
     "ename": "KeyError",
     "evalue": "0",
     "output_type": "error",
     "traceback": [
      "\u001b[0;31m---------------------------------------------------------------------------\u001b[0m",
      "\u001b[0;31mKeyError\u001b[0m                                  Traceback (most recent call last)",
      "File \u001b[0;32m/opt/homebrew/Caskroom/miniforge/base/envs/pytorch1.13/lib/python3.10/site-packages/pandas/core/indexes/base.py:3803\u001b[0m, in \u001b[0;36mIndex.get_loc\u001b[0;34m(self, key, method, tolerance)\u001b[0m\n\u001b[1;32m   3802\u001b[0m \u001b[39mtry\u001b[39;00m:\n\u001b[0;32m-> 3803\u001b[0m     \u001b[39mreturn\u001b[39;00m \u001b[39mself\u001b[39;49m\u001b[39m.\u001b[39;49m_engine\u001b[39m.\u001b[39;49mget_loc(casted_key)\n\u001b[1;32m   3804\u001b[0m \u001b[39mexcept\u001b[39;00m \u001b[39mKeyError\u001b[39;00m \u001b[39mas\u001b[39;00m err:\n",
      "File \u001b[0;32m/opt/homebrew/Caskroom/miniforge/base/envs/pytorch1.13/lib/python3.10/site-packages/pandas/_libs/index.pyx:138\u001b[0m, in \u001b[0;36mpandas._libs.index.IndexEngine.get_loc\u001b[0;34m()\u001b[0m\n",
      "File \u001b[0;32m/opt/homebrew/Caskroom/miniforge/base/envs/pytorch1.13/lib/python3.10/site-packages/pandas/_libs/index.pyx:165\u001b[0m, in \u001b[0;36mpandas._libs.index.IndexEngine.get_loc\u001b[0;34m()\u001b[0m\n",
      "File \u001b[0;32mpandas/_libs/hashtable_class_helper.pxi:2263\u001b[0m, in \u001b[0;36mpandas._libs.hashtable.Int64HashTable.get_item\u001b[0;34m()\u001b[0m\n",
      "File \u001b[0;32mpandas/_libs/hashtable_class_helper.pxi:2273\u001b[0m, in \u001b[0;36mpandas._libs.hashtable.Int64HashTable.get_item\u001b[0;34m()\u001b[0m\n",
      "\u001b[0;31mKeyError\u001b[0m: 0",
      "\nThe above exception was the direct cause of the following exception:\n",
      "\u001b[0;31mKeyError\u001b[0m                                  Traceback (most recent call last)",
      "Cell \u001b[0;32mIn [34], line 8\u001b[0m\n\u001b[1;32m      5\u001b[0m s_counts, s_bins \u001b[39m=\u001b[39m np\u001b[39m.\u001b[39mhistogram(df[\u001b[39m'\u001b[39m\u001b[39msummary\u001b[39m\u001b[39m'\u001b[39m]\u001b[39m.\u001b[39mapply(\u001b[39mlen\u001b[39m), bins\u001b[39m=\u001b[39m\u001b[39m100\u001b[39m)\n\u001b[1;32m      7\u001b[0m r_counts \u001b[39m=\u001b[39m df[\u001b[39m'\u001b[39m\u001b[39msummary\u001b[39m\u001b[39m'\u001b[39m]\u001b[39m.\u001b[39mapply(\u001b[39mlen\u001b[39m)\u001b[39m.\u001b[39mvalue_counts()\n\u001b[0;32m----> 8\u001b[0m \u001b[39mprint\u001b[39m(r_counts[\u001b[39m0\u001b[39;49m])\n\u001b[1;32m     10\u001b[0m \u001b[39mprint\u001b[39m(s_bins)\n\u001b[1;32m     11\u001b[0m \u001b[39mprint\u001b[39m(s_counts)\n",
      "File \u001b[0;32m/opt/homebrew/Caskroom/miniforge/base/envs/pytorch1.13/lib/python3.10/site-packages/pandas/core/series.py:981\u001b[0m, in \u001b[0;36mSeries.__getitem__\u001b[0;34m(self, key)\u001b[0m\n\u001b[1;32m    978\u001b[0m     \u001b[39mreturn\u001b[39;00m \u001b[39mself\u001b[39m\u001b[39m.\u001b[39m_values[key]\n\u001b[1;32m    980\u001b[0m \u001b[39melif\u001b[39;00m key_is_scalar:\n\u001b[0;32m--> 981\u001b[0m     \u001b[39mreturn\u001b[39;00m \u001b[39mself\u001b[39;49m\u001b[39m.\u001b[39;49m_get_value(key)\n\u001b[1;32m    983\u001b[0m \u001b[39mif\u001b[39;00m is_hashable(key):\n\u001b[1;32m    984\u001b[0m     \u001b[39m# Otherwise index.get_value will raise InvalidIndexError\u001b[39;00m\n\u001b[1;32m    985\u001b[0m     \u001b[39mtry\u001b[39;00m:\n\u001b[1;32m    986\u001b[0m         \u001b[39m# For labels that don't resolve as scalars like tuples and frozensets\u001b[39;00m\n",
      "File \u001b[0;32m/opt/homebrew/Caskroom/miniforge/base/envs/pytorch1.13/lib/python3.10/site-packages/pandas/core/series.py:1089\u001b[0m, in \u001b[0;36mSeries._get_value\u001b[0;34m(self, label, takeable)\u001b[0m\n\u001b[1;32m   1086\u001b[0m     \u001b[39mreturn\u001b[39;00m \u001b[39mself\u001b[39m\u001b[39m.\u001b[39m_values[label]\n\u001b[1;32m   1088\u001b[0m \u001b[39m# Similar to Index.get_value, but we do not fall back to positional\u001b[39;00m\n\u001b[0;32m-> 1089\u001b[0m loc \u001b[39m=\u001b[39m \u001b[39mself\u001b[39;49m\u001b[39m.\u001b[39;49mindex\u001b[39m.\u001b[39;49mget_loc(label)\n\u001b[1;32m   1090\u001b[0m \u001b[39mreturn\u001b[39;00m \u001b[39mself\u001b[39m\u001b[39m.\u001b[39mindex\u001b[39m.\u001b[39m_get_values_for_loc(\u001b[39mself\u001b[39m, loc, label)\n",
      "File \u001b[0;32m/opt/homebrew/Caskroom/miniforge/base/envs/pytorch1.13/lib/python3.10/site-packages/pandas/core/indexes/base.py:3805\u001b[0m, in \u001b[0;36mIndex.get_loc\u001b[0;34m(self, key, method, tolerance)\u001b[0m\n\u001b[1;32m   3803\u001b[0m     \u001b[39mreturn\u001b[39;00m \u001b[39mself\u001b[39m\u001b[39m.\u001b[39m_engine\u001b[39m.\u001b[39mget_loc(casted_key)\n\u001b[1;32m   3804\u001b[0m \u001b[39mexcept\u001b[39;00m \u001b[39mKeyError\u001b[39;00m \u001b[39mas\u001b[39;00m err:\n\u001b[0;32m-> 3805\u001b[0m     \u001b[39mraise\u001b[39;00m \u001b[39mKeyError\u001b[39;00m(key) \u001b[39mfrom\u001b[39;00m \u001b[39merr\u001b[39;00m\n\u001b[1;32m   3806\u001b[0m \u001b[39mexcept\u001b[39;00m \u001b[39mTypeError\u001b[39;00m:\n\u001b[1;32m   3807\u001b[0m     \u001b[39m# If we have a listlike key, _check_indexing_error will raise\u001b[39;00m\n\u001b[1;32m   3808\u001b[0m     \u001b[39m#  InvalidIndexError. Otherwise we fall through and re-raise\u001b[39;00m\n\u001b[1;32m   3809\u001b[0m     \u001b[39m#  the TypeError.\u001b[39;00m\n\u001b[1;32m   3810\u001b[0m     \u001b[39mself\u001b[39m\u001b[39m.\u001b[39m_check_indexing_error(key)\n",
      "\u001b[0;31mKeyError\u001b[0m: 0"
     ]
    },
    {
     "data": {
      "image/png": "[encoded data removed]",
      "text/plain": [
       "<Figure size 1000x500 with 2 Axes>"
      ]
     },
     "metadata": {},
     "output_type": "display_data"
    }
   ],
   "source": [
    "# Plot a distribution of review lengths with log scale\n",
    "fig, ax = plt.subplots(1, 2, figsize=(10, 5))\n",
    "\n",
    "r_counts, r_bins = np.histogram(df['reviewtext'].apply(len), bins=100)\n",
    "s_counts, s_bins = np.histogram(df['summary'].apply(len), bins=100)\n",
    "\n",
    "r_counts = df['summary'].apply(len).value_counts()\n",
    "print(r_counts)\n",
    "\n",
    "print(s_bins)\n",
    "print(s_counts)\n",
    "\n",
    "print(len(r_counts), len(r_bins), len(s_counts), len(s_bins))\n",
    "\n",
    "ax[0].hist(df['reviewtext'].apply(len), bins=100, log=True)\n",
    "ax[0].set_title(\"Distribution of review lengths\")\n",
    "ax[0].set_xlabel(\"Review length\")\n",
    "ax[0].set_ylabel(\"Frequency\")\n",
    "ax[0].set_yscale(\"log\")\n",
    "\n",
    "ax[1].hist(df['summary'].apply(len), bins=100, log=True)\n",
    "ax[1].set_title(\"Distribution of summary lengths\")\n",
    "ax[1].set_xlabel(\"summary length\")\n",
    "ax[1].set_ylabel(\"Frequency\")\n",
    "plt.show()"
   ]
  },
  {
   "cell_type": "code",
   "execution_count": null,
   "metadata": {},
   "outputs": [],
   "source": []
  },
  {
   "cell_type": "code",
   "execution_count": 4,
   "metadata": {},
   "outputs": [],
   "source": [
    "# torch dataset from pandas dataframe\n",
    "# defines a voacbulary of words and converts the review text to a list of indices\n",
    "# beware of symbols like ., !, ? etc.\n",
    "# pad the review text and summary to max_review_len and max_summary_len respectively\n",
    "\n",
    "class ReviewDataset(th.utils.data.Dataset):\n",
    "    def __init__(self, df):\n",
    "        self.df = df\n",
    "\n",
    "    def __len__(self):\n",
    "        return len(self.df)\n",
    "\n",
    "    def __getitem__(self, idx):\n",
    "        review = self.df.iloc[idx, 0].split()\n",
    "        review = [self.vocab2idx[word] for word in review]\n",
    "        review = th.tensor(review, dtype=th.long)\n",
    "        review = th.nn.functional.pad(review, (0, max_review_len - len(review)))\n",
    "        rating = self.df.iloc[idx, 1]\n",
    "        rating = th.tensor(rating, dtype=th.long)\n",
    "        summary = self.df.iloc[idx, 2].split()\n",
    "        summary = [self.vocab2idx[word] for word in summary]\n",
    "        summary = th.tensor(summary, dtype=th.long)\n",
    "        summary = th.nn.functional.pad(summary, (0, max_summary_len - len(summary)))\n",
    "\n",
    "        # move tensors to device\n",
    "        review = review.to(device)\n",
    "        rating = rating.to(device)\n",
    "        summary = summary.to(device)\n",
    "        \n",
    "        return review, rating, summary"
   ]
  },
  {
   "cell_type": "code",
   "execution_count": 6,
   "metadata": {},
   "outputs": [],
   "source": [
    "# torch dataset from pandas dataframe\n",
    "# defines a voacbulary of words and converts the review text to a list of indices"
   ]
  },
  {
   "cell_type": "code",
   "execution_count": 8,
   "metadata": {},
   "outputs": [
    {
     "ename": "TypeError",
     "evalue": "new(): invalid data type 'str'",
     "output_type": "error",
     "traceback": [
      "\u001b[0;31m---------------------------------------------------------------------------\u001b[0m",
      "\u001b[0;31mTypeError\u001b[0m                                 Traceback (most recent call last)",
      "Cell \u001b[0;32mIn [8], line 3\u001b[0m\n\u001b[1;32m      1\u001b[0m \u001b[39m# test the dataset\u001b[39;00m\n\u001b[1;32m      2\u001b[0m dataset \u001b[39m=\u001b[39m ReviewDataset(df)\n\u001b[0;32m----> 3\u001b[0m \u001b[39mprint\u001b[39m(dataset[\u001b[39m0\u001b[39;49m])\n",
      "Cell \u001b[0;32mIn [7], line 37\u001b[0m, in \u001b[0;36mReviewDataset.__getitem__\u001b[0;34m(self, idx)\u001b[0m\n\u001b[1;32m     35\u001b[0m review \u001b[39m=\u001b[39m th\u001b[39m.\u001b[39mnn\u001b[39m.\u001b[39mfunctional\u001b[39m.\u001b[39mpad(review, (\u001b[39m0\u001b[39m, max_review_len \u001b[39m-\u001b[39m \u001b[39mlen\u001b[39m(review)))\n\u001b[1;32m     36\u001b[0m rating \u001b[39m=\u001b[39m \u001b[39mself\u001b[39m\u001b[39m.\u001b[39mdf\u001b[39m.\u001b[39miloc[idx, \u001b[39m1\u001b[39m]\n\u001b[0;32m---> 37\u001b[0m rating \u001b[39m=\u001b[39m th\u001b[39m.\u001b[39;49mtensor(rating, dtype\u001b[39m=\u001b[39;49mth\u001b[39m.\u001b[39;49mlong)\n\u001b[1;32m     38\u001b[0m summary \u001b[39m=\u001b[39m \u001b[39mself\u001b[39m\u001b[39m.\u001b[39mdf\u001b[39m.\u001b[39miloc[idx, \u001b[39m2\u001b[39m]\u001b[39m.\u001b[39msplit()\n\u001b[1;32m     39\u001b[0m summary \u001b[39m=\u001b[39m [\u001b[39mself\u001b[39m\u001b[39m.\u001b[39mvocab2idx[word] \u001b[39mfor\u001b[39;00m word \u001b[39min\u001b[39;00m summary]\n",
      "\u001b[0;31mTypeError\u001b[0m: new(): invalid data type 'str'"
     ]
    }
   ],
   "source": [
    "# test the dataset\n",
    "dataset = ReviewDataset(df)\n",
    "print(dataset[0])"
   ]
  },
  {
   "cell_type": "code",
   "execution_count": null,
   "metadata": {},
   "outputs": [],
   "source": [
    "\"\"\"\n",
    "Model\n",
    "uses context aware word embedding\n",
    "multi-task network\n",
    "\n",
    "Input: takes in a review string\n",
    "Task 1: output a summary string of the input review with a max length defined by the dataset\n",
    "Task 2: output a rating of the input review as a float 0-1\n",
    "\n",
    "Use an encoder decoder setup with one decoder for each task\n",
    "\"\"\"\n",
    "class Summariser(th.nn.Module):\n",
    "    def __init__(self, vocab_size, embedding_dim, max_review_len, max_summary_len):\n",
    "        super(Summariser, self).__init__()\n",
    "        self.vocab_size = vocab_size\n",
    "        self.embedding_dim = embedding_dim\n",
    "        self.max_review_len = max_review_len\n",
    "        self.max_summary_len = max_summary_len\n",
    "        self.embedding = th.nn.Embedding(vocab_size, embedding_dim)\n",
    "        self.encoder = th.nn.LSTM(embedding_dim, embedding_dim, num_layers=2, bidirectional=True, batch_first=True)\n",
    "        self.decoder1 = th.nn.LSTM(embedding_dim, embedding_dim, num_layers=2, batch_first=True)\n",
    "        self.decoder2 = th.nn.LSTM(embedding_dim, embedding_dim, num_layers=2, batch_first=True)\n",
    "        self.linear1 = th.nn.Linear(embedding_dim, vocab_size)\n",
    "        self.linear2 = th.nn.Linear(embedding_dim, 1)\n",
    "        self.softmax = th.nn.Softmax(dim=2)\n",
    "        self.sigmoid = th.nn.Sigmoid()\n",
    "\n",
    "    def forward(self, x):\n",
    "        x = self.embedding(x)\n",
    "        x, _ = self.encoder(x)\n",
    "        x1, _ = self.decoder1(x)\n",
    "        x2, _ = self.decoder2(x)\n",
    "        x1 = self.linear1(x1)\n",
    "        x1 = self.softmax(x1)\n",
    "        x2 = self.linear2(x2)\n",
    "        x2 = self.sigmoid(x2)\n",
    "        return x1, x2"
   ]
  },
  {
   "cell_type": "code",
   "execution_count": null,
   "metadata": {},
   "outputs": [],
   "source": [
    "\"\"\"\n",
    "Dataset preparation\n",
    "Use the ReviewDataset to create a DataLoader\n",
    "Splitting the train, validation, and test sets\n",
    "\"\"\"\n",
    "# initialise the dataset\n",
    "dataset = ReviewDataset(df)\n",
    "dataset_size = len(dataset)\n",
    "\n",
    "# shrink dataset for testing\n",
    "dataset_size = 500\n",
    "dataset = th.utils.data.Subset(dataset, range(dataset_size))\n",
    "\n",
    "# split the dataset\n",
    "train_size = int(0.8 * dataset_size)\n",
    "val_size = int(0.1 * dataset_size)\n",
    "test_size = dataset_size - train_size - val_size\n",
    "train_dataset, val_dataset, test_dataset = th.utils.data.random_split(dataset, [train_size, val_size, test_size])\n",
    "\n",
    "# create the dataloaders\n",
    "batch_size = 32\n",
    "train_loader = th.utils.data.DataLoader(train_dataset, batch_size=batch_size, shuffle=True)\n",
    "val_loader = th.utils.data.DataLoader(val_dataset, batch_size=batch_size, shuffle=True)\n",
    "test_loader = th.utils.data.DataLoader(test_dataset, batch_size=batch_size, shuffle=True)"
   ]
  },
  {
   "cell_type": "code",
   "execution_count": null,
   "metadata": {},
   "outputs": [
    {
     "name": "stdout",
     "output_type": "stream",
     "text": [
      "torch.Size([32, 18152]) torch.Size([32]) torch.Size([32, 151])\n"
     ]
    }
   ],
   "source": [
    "# test the dataloader\n",
    "train_loader_iter = iter(train_loader)\n",
    "x, y, z = next(train_loader_iter)\n",
    "print(x.shape, y.shape, z.shape)\n"
   ]
  },
  {
   "cell_type": "code",
   "execution_count": null,
   "metadata": {},
   "outputs": [],
   "source": [
    "\"\"\"\n",
    "Training\n",
    "\"\"\"\n",
    "\"\"\" # initialise the model\n",
    "# take into account if it is a subset of the dataset\n",
    "model = Summariser(dataset.dataset.vocab_size, 256, max_review_len, max_summary_len)\n",
    "model = model.to(device)\n",
    "\n",
    "# define the loss functions\n",
    "loss_fn1 = th.nn.CrossEntropyLoss()\n",
    "loss_fn2 = th.nn.BCELoss()\n",
    "\n",
    "# define the optimiser\n",
    "optimiser = th.optim.Adam(model.parameters(), lr=0.001)\n",
    "\n",
    "# define the number of epochs\n",
    "epochs = 10\n",
    "\n",
    "# train the model\n",
    "for epoch in range(epochs):\n",
    "    for review, rating, summary in train_loader:\n",
    "        # zero the gradients\n",
    "        optimiser.zero_grad()\n",
    "\n",
    "        # forward pass\n",
    "        y_pred1, y_pred2 = model(review)\n",
    "\n",
    "        # calculate the loss\n",
    "        loss1 = loss_fn1(y_pred1, summary)\n",
    "        loss2 = loss_fn2(y_pred2, rating.unsqueeze(1).float())\n",
    "        loss = loss1 + loss2\n",
    "\n",
    "        # backward pass\n",
    "        loss.backward()\n",
    "\n",
    "        # update the weights\n",
    "        optimiser.step()\n",
    "\n",
    "    # print the loss\n",
    "    print(f'Epoch {epoch + 1}/{epochs}, Loss: {loss.item():.4f}') \"\"\"\n"
   ]
  },
  {
   "cell_type": "code",
   "execution_count": null,
   "metadata": {},
   "outputs": [],
   "source": []
  }
 ],
 "metadata": {
  "kernelspec": {
   "display_name": "Python 3.10.6 ('pytorch1.13')",
   "language": "python",
   "name": "python3"
  },
  "language_info": {
   "codemirror_mode": {
    "name": "ipython",
    "version": 3
   },
   "file_extension": ".py",
   "mimetype": "text/x-python",
   "name": "python",
   "nbconvert_exporter": "python",
   "pygments_lexer": "ipython3",
   "version": "3.10.6"
  },
  "orig_nbformat": 4,
  "vscode": {
   "interpreter": {
    "hash": "74ce01c583b9da8e861aa1ee054dcef8ec2fe05bc1a1578aa65fd6e69a36df1a"
   }
  }
 },
 "nbformat": 4,
 "nbformat_minor": 2
}
