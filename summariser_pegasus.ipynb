{
 "cells": [
  {
   "cell_type": "code",
   "execution_count": 8,
   "metadata": {},
   "outputs": [
    {
     "name": "stdout",
     "output_type": "stream",
     "text": [
      "Original text:\n",
      "Airbags are safety devices that are found in modern vehicles. They are designed to deploy during a collision or impact, cushioning the passengers and protecting them from the full force of the impact. Airbags are typically located in the steering wheel and dashboard for the driver, and in the door panels and ceiling for the passengers. They are made from a strong, lightweight material that inflates rapidly when triggered, and are designed to work in combination with seat belts to provide maximum protection to vehicle occupants.\n",
      "\n",
      "Summarized text:\n",
      "This report studies the Airbags market status and outlook of global and major regions, from angles of players, regions, product and end Application/industries; this report dissects the top players in global and major regions, and splits the Airbags market by product and Application/end industries.\n"
     ]
    }
   ],
   "source": [
    "# Using Google Pegasus model to summarise text\n",
    "import torch\n",
    "import transformers # Huggingface transformers\n",
    "from transformers import PegasusForConditionalGeneration, PegasusTokenizer\n",
    "\n",
    "# https://huggingface.co/google/pegasus-xsum\n",
    "tokenizer = PegasusTokenizer.from_pretrained('google/pegasus-xsum') \n",
    "model = PegasusForConditionalGeneration.from_pretrained('google/pegasus-xsum')\n",
    "\n",
    "# Summarise text\n",
    "def summarise(text):\n",
    "    batch = tokenizer.prepare_seq2seq_batch([text], truncation=True, padding='longest', return_tensors=\"pt\")\n",
    "    translated = model.generate(**batch)\n",
    "    tgt_text = tokenizer.batch_decode(translated, skip_special_tokens=True)\n",
    "    return tgt_text[0]\n",
    "\n",
    "org_text = \"Airbags are safety devices that are found in modern vehicles. They are designed to deploy during a collision or impact, cushioning the passengers and protecting them from the full force of the impact. Airbags are typically located in the steering wheel and dashboard for the driver, and in the door panels and ceiling for the passengers. They are made from a strong, lightweight material that inflates rapidly when triggered, and are designed to work in combination with seat belts to provide maximum protection to vehicle occupants.\"\n",
    "print(f\"Original text:\\n{org_text}\\n\")\n",
    "\n",
    "summarized_text = summarise(org_text)\n",
    "print(f\"Summarized text:\\n{summarized_text}\")"
   ]
  },
  {
   "cell_type": "code",
   "execution_count": null,
   "metadata": {},
   "outputs": [],
   "source": []
  }
 ],
 "metadata": {
  "kernelspec": {
   "display_name": "Python 3.10.6 ('pytorch1.13')",
   "language": "python",
   "name": "python3"
  },
  "language_info": {
   "codemirror_mode": {
    "name": "ipython",
    "version": 3
   },
   "file_extension": ".py",
   "mimetype": "text/x-python",
   "name": "python",
   "nbconvert_exporter": "python",
   "pygments_lexer": "ipython3",
   "version": "3.10.6"
  },
  "orig_nbformat": 4,
  "vscode": {
   "interpreter": {
    "hash": "74ce01c583b9da8e861aa1ee054dcef8ec2fe05bc1a1578aa65fd6e69a36df1a"
   }
  }
 },
 "nbformat": 4,
 "nbformat_minor": 2
}
