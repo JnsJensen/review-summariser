{
 "cells": [
  {
   "cell_type": "code",
   "execution_count": 1,
   "metadata": {},
   "outputs": [
    {
     "name": "stderr",
     "output_type": "stream",
     "text": [
      "/home/jens/miniconda3/envs/deep-learning/lib/python3.10/site-packages/tqdm/auto.py:22: TqdmWarning: IProgress not found. Please update jupyter and ipywidgets. See https://ipywidgets.readthedocs.io/en/stable/user_install.html\n",
      "  from .autonotebook import tqdm as notebook_tqdm\n",
      "Downloading: 100%|██████████| 1.91M/1.91M [00:00<00:00, 2.76MB/s]\n",
      "Downloading: 100%|██████████| 65.0/65.0 [00:00<00:00, 39.5kB/s]\n",
      "Downloading: 100%|██████████| 87.0/87.0 [00:00<00:00, 32.8kB/s]\n",
      "Downloading: 100%|██████████| 1.39k/1.39k [00:00<00:00, 865kB/s]\n",
      "Downloading: 100%|██████████| 2.28G/2.28G [02:35<00:00, 14.6MB/s] \n"
     ]
    },
    {
     "name": "stdout",
     "output_type": "stream",
     "text": [
      "Original text:\n",
      "Airbags are safety devices that are found in modern vehicles. They are designed to deploy during a collision or impact, cushioning the passengers and protecting them from the full force of the impact. Airbags are typically located in the steering wheel and dashboard for the driver, and in the door panels and ceiling for the passengers. They are made from a strong, lightweight material that inflates rapidly when triggered, and are designed to work in combination with seat belts to provide maximum protection to vehicle occupants.\n",
      "\n"
     ]
    },
    {
     "name": "stderr",
     "output_type": "stream",
     "text": [
      "/home/jens/miniconda3/envs/deep-learning/lib/python3.10/site-packages/transformers/tokenization_utils_base.py:3704: FutureWarning: \n",
      "`prepare_seq2seq_batch` is deprecated and will be removed in version 5 of HuggingFace Transformers. Use the regular\n",
      "`__call__` method to prepare your inputs and targets.\n",
      "\n",
      "Here is a short example:\n",
      "\n",
      "model_inputs = tokenizer(src_texts, text_target=tgt_texts, ...)\n",
      "\n",
      "If you either need to use different keyword arguments for the source and target texts, you should do two calls like\n",
      "this:\n",
      "\n",
      "model_inputs = tokenizer(src_texts, ...)\n",
      "labels = tokenizer(text_target=tgt_texts, ...)\n",
      "model_inputs[\"labels\"] = labels[\"input_ids\"]\n",
      "\n",
      "See the documentation of your specific tokenizer for more details on the specific arguments to the tokenizer of choice.\n",
      "For a more complete example, see the implementation of `prepare_seq2seq_batch`.\n",
      "\n",
      "  warnings.warn(formatted_warning, FutureWarning)\n",
      "/home/jens/miniconda3/envs/deep-learning/lib/python3.10/site-packages/transformers/generation/utils.py:1387: UserWarning: Neither `max_length` nor `max_new_tokens` has been set, `max_length` will default to 64 (`self.config.max_length`). Controlling `max_length` via the config is deprecated and `max_length` will be removed from the config in v5 of Transformers -- we recommend using `max_new_tokens` to control the maximum length of the generation.\n",
      "  warnings.warn(\n"
     ]
    },
    {
     "name": "stdout",
     "output_type": "stream",
     "text": [
      "Summarized text:\n",
      "This report studies the Airbags market status and outlook of global and major regions, from angles of players, regions, product and end Application/industries; this report dissects the top players in global and major regions, and splits the Airbags market by product and Application/end industries.\n"
     ]
    }
   ],
   "source": [
    "# Using Google Pegasus model to summarise text\n",
    "import torch\n",
    "import transformers # Huggingface transformers\n",
    "from transformers import PegasusForConditionalGeneration, PegasusTokenizer\n",
    "\n",
    "# https://huggingface.co/google/pegasus-xsum\n",
    "tokenizer = PegasusTokenizer.from_pretrained('google/pegasus-xsum') \n",
    "model = PegasusForConditionalGeneration.from_pretrained('google/pegasus-xsum')\n",
    "\n",
    "# Summarise text\n",
    "def summarise(text):\n",
    "    batch = tokenizer.prepare_seq2seq_batch([text], truncation=True, padding='longest', return_tensors=\"pt\")\n",
    "    translated = model.generate(**batch)\n",
    "    tgt_text = tokenizer.batch_decode(translated, skip_special_tokens=True)\n",
    "    return tgt_text[0]\n",
    "\n",
    "org_text = \"Airbags are safety devices that are found in modern vehicles. They are designed to deploy during a collision or impact, cushioning the passengers and protecting them from the full force of the impact. Airbags are typically located in the steering wheel and dashboard for the driver, and in the door panels and ceiling for the passengers. They are made from a strong, lightweight material that inflates rapidly when triggered, and are designed to work in combination with seat belts to provide maximum protection to vehicle occupants.\"\n",
    "print(f\"Original text:\\n{org_text}\\n\")\n",
    "\n",
    "summarized_text = summarise(org_text)\n",
    "print(f\"Summarized text:\\n{summarized_text}\")"
   ]
  },
  {
   "cell_type": "code",
   "execution_count": null,
   "metadata": {},
   "outputs": [],
   "source": []
  }
 ],
 "metadata": {
  "kernelspec": {
   "display_name": "Python 3.10.8 ('deep-learning')",
   "language": "python",
   "name": "python3"
  },
  "language_info": {
   "codemirror_mode": {
    "name": "ipython",
    "version": 3
   },
   "file_extension": ".py",
   "mimetype": "text/x-python",
   "name": "python",
   "nbconvert_exporter": "python",
   "pygments_lexer": "ipython3",
   "version": "3.10.8"
  },
  "orig_nbformat": 4,
  "vscode": {
   "interpreter": {
    "hash": "c97f19f1a61f7391961f30397493e1a2688eb0342e378cc602641384d76195b8"
   }
  }
 },
 "nbformat": 4,
 "nbformat_minor": 2
}
